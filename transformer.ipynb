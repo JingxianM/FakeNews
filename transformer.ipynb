{
 "cells": [
  {
   "cell_type": "code",
   "execution_count": 1,
   "metadata": {},
   "outputs": [
    {
     "data": {
      "text/plain": [
       "True"
      ]
     },
     "execution_count": 1,
     "metadata": {},
     "output_type": "execute_result"
    }
   ],
   "source": [
    "import torch\n",
    "torch.cuda.is_available() # check if GPU is enabled\n",
    "\n",
    "\n",
    "#conda install conda-forge::pysqlite3 conda-forge::sqlite conda-forge:libsqlite #for fresh install, in case sqlite is reporting error, uninstall and run this in the prompt."
   ]
  },
  {
   "cell_type": "code",
   "execution_count": 2,
   "metadata": {},
   "outputs": [],
   "source": [
    "# please take note that this notebook is written in WSL2 for the support of tensorflow.\n",
    "# It is propablity easier to run this notebook in Linux, I guess.\n",
    "# For MacOS users, please be aware that it does not have offical CUDA support.\n",
    "# below is all the packages needed\n",
    "#help('modules') # unmark this if needed (it is quite slow)"
   ]
  },
  {
   "cell_type": "code",
   "execution_count": 3,
   "metadata": {},
   "outputs": [
    {
     "name": "stdout",
     "output_type": "stream",
     "text": [
      "3.12.2 | packaged by conda-forge | (main, Feb 16 2024, 20:50:58) [GCC 12.3.0]\n"
     ]
    }
   ],
   "source": [
    "# below is the python version infomation\n",
    "import sys\n",
    "print(sys.version)"
   ]
  },
  {
   "cell_type": "code",
   "execution_count": 4,
   "metadata": {},
   "outputs": [
    {
     "name": "stderr",
     "output_type": "stream",
     "text": [
      "[nltk_data] Downloading package punkt_tab to /home/see/nltk_data...\n",
      "[nltk_data]   Package punkt_tab is already up-to-date!\n",
      "[nltk_data] Downloading package stopwords to /home/see/nltk_data...\n",
      "[nltk_data]   Package stopwords is already up-to-date!\n",
      "[nltk_data] Downloading package wordnet to /home/see/nltk_data...\n",
      "[nltk_data]   Package wordnet is already up-to-date!\n",
      "/home/see/anaconda3/envs/pt/lib/python3.12/site-packages/tqdm/auto.py:21: TqdmWarning: IProgress not found. Please update jupyter and ipywidgets. See https://ipywidgets.readthedocs.io/en/stable/user_install.html\n",
      "  from .autonotebook import tqdm as notebook_tqdm\n"
     ]
    }
   ],
   "source": [
    "import pandas as pd\n",
    "from nltk.corpus import stopwords\n",
    "from nltk.tokenize import word_tokenize\n",
    "\n",
    "import matplotlib.pyplot as plt\n",
    "import matplotlib.cm as cm\n",
    "import numpy as np\n",
    "\n",
    "# preprocessing\n",
    "import nltk\n",
    "from nltk import tokenize\n",
    "from nltk.corpus import stopwords\n",
    "from nltk.stem import WordNetLemmatizer\n",
    "from collections import defaultdict\n",
    "nltk.download(\"punkt_tab\") \n",
    "nltk.download('stopwords')\n",
    "nltk.download('wordnet')\n",
    "#nltk.download() # you will need this at first run\n",
    "\n",
    "\n",
    "import seaborn as sns\n",
    "import spacy\n",
    "nlp = spacy.load('en_core_web_trf')\n",
    "import re\n",
    "from sklearn.model_selection import train_test_split\n",
    "from sklearn.preprocessing import LabelEncoder\n",
    "import logging\n",
    "\n",
    "# conda install -c conda-forge spacy\n",
    "# conda install -c conda-forge cupy\n",
    "# python -m spacy download en_core_web_trf # you will need this to install spacy\n",
    "\n",
    "\n",
    "from gensim.models import Word2Vec\n",
    "from gensim.models.phrases import Phrases, Phraser\n",
    "\n",
    "# transformers\n",
    "from sklearn.metrics import accuracy_score, confusion_matrix, classification_report\n",
    "import torch\n",
    "\n",
    "from wordcloud import WordCloud, STOPWORDS"
   ]
  },
  {
   "cell_type": "code",
   "execution_count": 5,
   "metadata": {},
   "outputs": [],
   "source": [
    "# import data \n",
    "fake_or_real_news = pd.read_csv(\"/mnt/c/Users/seesu/Desktop/New folder (4)/Individual/fake_or_real_news.csv\").drop('Unnamed: 0', axis=1)\n"
   ]
  },
  {
   "cell_type": "markdown",
   "metadata": {},
   "source": [
    "# EDA\n",
    "learned from: https://www.kaggle.com/code/harshsingh2209/complete-guide-to-eda-on-text-data"
   ]
  },
  {
   "cell_type": "markdown",
   "metadata": {},
   "source": [
    "#### Check duplicates "
   ]
  },
  {
   "cell_type": "code",
   "execution_count": 6,
   "metadata": {},
   "outputs": [
    {
     "name": "stdout",
     "output_type": "stream",
     "text": [
      "Number of duplicates in fake_or_real_news:  275\n"
     ]
    }
   ],
   "source": [
    "print(\"Number of duplicates in fake_or_real_news: \", fake_or_real_news.duplicated([\"text\"]).sum())\n",
    "\n",
    "# remove duplicates from fake_or_real_news\n",
    "fake_or_real_news = fake_or_real_news[~fake_or_real_news.duplicated([\"text\"])].copy(deep=True).reset_index(drop=True)\n"
   ]
  },
  {
   "cell_type": "markdown",
   "metadata": {},
   "source": [
    "# Pre-Processing\n"
   ]
  },
  {
   "cell_type": "code",
   "execution_count": 7,
   "metadata": {},
   "outputs": [],
   "source": [
    "def clean_texts(df_column):\n",
    "    \"\"\"\n",
    "    Clean the text data by removing stopwords, punctuation, tokennize and special characters.\n",
    "    \n",
    "    Parameters:\n",
    "        df_column (str): The text data to clean.\n",
    "    \n",
    "    Returns:\n",
    "        The cleaned text data.\n",
    "    \"\"\"\n",
    "\n",
    "    # expand U.S. \n",
    "    df_column = df_column.replace(\"U.S.\", \"UnitedStates\")\n",
    "    df_column = df_column.replace(\"u.s.\", \"UnitedStates\")\n",
    "\n",
    "    # remove punctuation\n",
    "    df_column = re.sub(r'[^\\w\\s]', ' ', df_column)\n",
    "\n",
    "    # remove special characters\n",
    "    df_column = re.sub(r'[^\\x00-\\x7F]+', ' ', df_column)\n",
    "\n",
    "    # remove extra spaces\n",
    "    df_column = re.sub(r'\\s+', ' ', df_column)\n",
    "\n",
    "    # contatact numbers toghther \n",
    "    df_column = re.sub(r'(\\d+)\\s+(\\d+)', r'\\1\\2', df_column)\n",
    "\n",
    "    # remove non-alphabetic characters\n",
    "    df_column = re.sub(r'[^a-zA-Z]', ' ', df_column)\n",
    "\n",
    "    # tokenize\n",
    "    df_column = word_tokenize(df_column)\n",
    "    \n",
    "    # remove stopwords\n",
    "    stop_words = set(stopwords.words('english'))\n",
    "    df_column = [word for word in df_column if word.lower() not in stop_words]\n",
    "\n",
    "    # lemmatize\n",
    "    lemmatizer = WordNetLemmatizer()\n",
    "    df_column = [lemmatizer.lemmatize(word) for word in df_column]\n",
    "    \n",
    "\n",
    "    return \" \".join(df_column).lower()\n"
   ]
  },
  {
   "cell_type": "code",
   "execution_count": 8,
   "metadata": {},
   "outputs": [],
   "source": [
    "# fake_or_real_news data\n",
    "fake_or_real_news['cleaned_text'] = fake_or_real_news['text'].apply(clean_texts)"
   ]
  },
  {
   "cell_type": "code",
   "execution_count": 15,
   "metadata": {},
   "outputs": [],
   "source": [
    "# export to csv for tendor model using\n",
    "fake_or_real_news.to_csv('cleaned_news.csv', index=False)"
   ]
  },
  {
   "cell_type": "markdown",
   "metadata": {},
   "source": [
    "## Transformer\n",
    "from: \n",
    "https://huggingface.co/hamzab/roberta-fake-news-classification"
   ]
  },
  {
   "cell_type": "code",
   "execution_count": 9,
   "metadata": {},
   "outputs": [],
   "source": [
    "from transformers import AutoTokenizer, AutoModelForSequenceClassification\n",
    "\n",
    "tokenizer = AutoTokenizer.from_pretrained(\"hamzab/roberta-fake-news-classification\")\n",
    "\n",
    "model = AutoModelForSequenceClassification.from_pretrained(\"hamzab/roberta-fake-news-classification\")\n",
    "\n",
    "\n",
    "def predict_fake(title,text):\n",
    "    input_str = \"<title>\" + title + \"<content>\" +  text + \"<end>\"\n",
    "    input_ids = tokenizer.encode_plus(input_str, max_length=512, padding=\"max_length\", truncation=True, return_tensors=\"pt\")\n",
    "    device =  'cuda' if torch.cuda.is_available() else 'cpu'\n",
    "    model.to(device)\n",
    "    with torch.no_grad():\n",
    "        output = model(input_ids[\"input_ids\"].to(device), attention_mask=input_ids[\"attention_mask\"].to(device))\n",
    "    return dict(zip([\"Fake\",\"Real\"], [x.item() for x in list(torch.nn.Softmax()(output.logits)[0])] ))\n",
    "    \n",
    "def get_label(prob_dict):\n",
    "    return max(prob_dict, key=prob_dict.get)"
   ]
  },
  {
   "cell_type": "code",
   "execution_count": 10,
   "metadata": {},
   "outputs": [
    {
     "name": "stderr",
     "output_type": "stream",
     "text": [
      "/home/see/anaconda3/envs/pt/lib/python3.12/site-packages/torch/nn/modules/module.py:1739: UserWarning: Implicit dimension choice for softmax has been deprecated. Change the call to include dim=X as an argument.\n",
      "  return self._call_impl(*args, **kwargs)\n"
     ]
    }
   ],
   "source": [
    "# make predictions\n",
    "fake_or_real_news['prediction'] = fake_or_real_news.apply(\n",
    "    lambda row: predict_fake(row['title'], row['text']), \n",
    "    axis=1\n",
    ")\n",
    "\n",
    "fake_or_real_news['prediction'] = fake_or_real_news['prediction'].apply(get_label)\n",
    "\n",
    "# encode the labels\n",
    "fake_or_real_news['prediction'] = fake_or_real_news['prediction'].map(lambda x: 0 if x == 'Fake' else 1)\n",
    "fake_or_real_news['encoded_label'] = fake_or_real_news['label'].map(lambda x: 0 if x == 'FAKE' else 1)"
   ]
  },
  {
   "cell_type": "code",
   "execution_count": 11,
   "metadata": {},
   "outputs": [
    {
     "name": "stdout",
     "output_type": "stream",
     "text": [
      "Accuracy: 0.7564\n"
     ]
    }
   ],
   "source": [
    "# calculate the accuracy\n",
    "accuracy = accuracy_score(fake_or_real_news['encoded_label'], fake_or_real_news['prediction'])\n",
    "print(f\"Accuracy: {accuracy:.4f}\")\n"
   ]
  },
  {
   "cell_type": "markdown",
   "metadata": {},
   "source": [
    "# Evaluation"
   ]
  },
  {
   "cell_type": "code",
   "execution_count": 17,
   "metadata": {},
   "outputs": [
    {
     "data": {
      "image/png": "[encoded data removed]",
      "text/plain": [
       "<Figure size 500x400 with 2 Axes>"
      ]
     },
     "metadata": {},
     "output_type": "display_data"
    },
    {
     "name": "stdout",
     "output_type": "stream",
     "text": [
      "              precision    recall  f1-score   support\n",
      "\n",
      "           0       0.72      0.86      0.78      3071\n",
      "           1       0.82      0.65      0.73      2989\n",
      "\n",
      "    accuracy                           0.76      6060\n",
      "   macro avg       0.77      0.76      0.75      6060\n",
      "weighted avg       0.77      0.76      0.75      6060\n",
      "\n"
     ]
    }
   ],
   "source": [
    "cm = confusion_matrix(fake_or_real_news['encoded_label'], fake_or_real_news['prediction'])\n",
    "plt.figure(figsize=(5,4))\n",
    "sns.heatmap(cm, annot=True, fmt='d', cmap='YlOrRd', xticklabels=['Fake (0)', 'Real (1)'], yticklabels=['Fake (0)', 'Real (1)'])\n",
    "plt.xlabel('Predicted')\n",
    "plt.ylabel('Actual')\n",
    "plt.title('Transformer Confusion Matrix')\n",
    "plt.show()\n",
    "\n",
    "report = classification_report(fake_or_real_news['encoded_label'], fake_or_real_news['prediction'])\n",
    "print(report)"
   ]
  },
  {
   "cell_type": "code",
   "execution_count": null,
   "metadata": {},
   "outputs": [],
   "source": []
  }
 ],
 "metadata": {
  "kernelspec": {
   "display_name": "pt",
   "language": "python",
   "name": "python3"
  },
  "language_info": {
   "codemirror_mode": {
    "name": "ipython",
    "version": 3
   },
   "file_extension": ".py",
   "mimetype": "text/x-python",
   "name": "python",
   "nbconvert_exporter": "python",
   "pygments_lexer": "ipython3",
   "version": "3.12.2"
  }
 },
 "nbformat": 4,
 "nbformat_minor": 2
}
